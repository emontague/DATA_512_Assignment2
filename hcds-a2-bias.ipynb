{
 "cells": [
  {
   "cell_type": "markdown",
   "metadata": {},
   "source": [
    "## DATA 512: Assignment 1: Data Curation \n",
    "- Created by: Libby Montague\n",
    "- Date: 10/29/2017\n",
    "- The intent of this script is to collect data on wikipedia articles about politicains and understand biases in the data. The country of origin of the polician and the population of the country are used to help understand potentail biases. \n",
    "- The script accesses the wikipedia ores API (please see the README for more information about the liscense for the data). Additionally, the script requires data from figshare and Population Research Bureau (see README for more information). \n",
    "- The first output of the script is wikipedia_ores_data_formatted.csv file with the complete merged data. Format of the file: \n",
    "    - country - the country of the politician \n",
    "    - article_name - the name of the wikipedia page (article)\n",
    "    - revision_id - the wikipedia revision id of the article\n",
    "    - article_quality - quality of the article using the ORES classification (FA, GA, B, C, Start, Stub)\n",
    "    - population - population of the country \n",
    "- The second output of the script is a figure with four graphs showing the countries with the most and least political articles per capita and good quality political articles per capita. Good quality articles are defined as 'FA' or 'GA' scoring by ORES. \n",
    "- Copyright 2017 Elizabeth Montague elizam8@uw.edu, under MIT License"
   ]
  },
  {
   "cell_type": "code",
   "execution_count": 1,
   "metadata": {
    "collapsed": true
   },
   "outputs": [],
   "source": [
    "# import libraries\n",
    "import requests\n",
    "import json\n",
    "import pandas as pd\n",
    "import numpy as nm\n",
    "import matplotlib.pyplot as plt\n",
    "import copy\n",
    "# store the working directory \n",
    "working_folder='{your working directory}'"
   ]
  },
  {
   "cell_type": "markdown",
   "metadata": {},
   "source": [
    "## 1. Data\n",
    "- The data are pulled from 3 sources:\n",
    "    - Figshare: the wikipedia data on the politicans by country. The data should be downloaded from: https://figshare.com/articles/Untitled_Item/5513449. And the 'page_data.csv' file should be stored in the working folder. The column headers should be: page, country, rev_id.  \n",
    "    - Population Research Bureau: the population data by country. The data should be downloaded from: http://www.prb.org/DataFinder/Topic/Rankings.aspx?ind=14. The the 'Population Mid-2015.csv' file should be stored in the working directory. The column headers should be: Location, Location Type, TimeFrame, Data Type, Data, Footnotes. The only Location Type should be 'Country' and the only Data Type should be 'Number.'\n",
    "    - ORES API: the 'rev_id' from the wikipedia data (Figshare) is used to query the ORES API for the article quality. The predicted score is the only value kept from the call. These results are then stored to a file in the working directory. The API call is slow, so this prevents the user from needing to call the API each time the script is run. \n",
    "- The data are then processed and stored in wikipedia_ores_data_formatted.csv. "
   ]
  },
  {
   "cell_type": "markdown",
   "metadata": {},
   "source": [
    "- Read in the data from the .csv files. "
   ]
  },
  {
   "cell_type": "code",
   "execution_count": 2,
   "metadata": {
    "collapsed": false
   },
   "outputs": [],
   "source": [
    "# read in the .csv data files\n",
    "# from figshare: https://figshare.com/articles/Untitled_Item/5513449\n",
    "wikipedia_data=pd.read_csv(working_folder+'page_data.csv')\n",
    "# from Population Research Bureau: http://www.prb.org/DataFinder/Topic/Rankings.aspx?ind=14\n",
    "prb_data=pd.read_csv(working_folder+'Population Mid-2015.csv',skiprows=1,thousands=\",\")\n",
    "# rename the columns to make merging easier\n",
    "prb_data.columns=(\"country\",\"Location Type\",\"TimeFrame\",\"Data Type\",\"Data\",\"Footnotes\")"
   ]
  },
  {
   "cell_type": "markdown",
   "metadata": {},
   "source": [
    "- Use the revision IDs from the wikipedia data (Figshare) to call the API. \n",
    "- First the revision IDs need to be broken up into sets of 50 for the batch query. There are > 47,000 revision IDs, so the API needs to be called 959 times. \n",
    "- Since the API call takes more than a couple mintues, there is a progress status printed. Additionally, the data are stored to a .csv file so that the user doesn't need to run the API call multiple times. "
   ]
  },
  {
   "cell_type": "code",
   "execution_count": 3,
   "metadata": {
    "collapsed": false
   },
   "outputs": [],
   "source": [
    "# break up the revision IDs to be in the limit of 50 for the batch query \n",
    "# limit according to instructors of UW class 512\n",
    "i=1\n",
    "revids_all=list()\n",
    "revids=\"\"\n",
    "for revid in wikipedia_data['rev_id']:\n",
    "    if i == 1:\n",
    "        revids=str(revid)\n",
    "    else:\n",
    "        if i % 50 == 0:\n",
    "            revids_all.append(revids)\n",
    "            revids=str(revid)\n",
    "        else:\n",
    "            revids=revids+\"|\"+str(revid)\n",
    "    i=i+1\n",
    "## subset for testing\n",
    "revids_all_subset=list()\n",
    "revids_all_subset.append(revids_all[1])\n",
    "revids_all_subset.append(revids_all[2])\n",
    "revids_all_subset.append(revids_all[3])"
   ]
  },
  {
   "cell_type": "code",
   "execution_count": 4,
   "metadata": {
    "collapsed": false
   },
   "outputs": [
    {
     "name": "stdout",
     "output_type": "stream",
     "text": [
      "progress: 0\n",
      "progress: 100\n",
      "progress: 200\n",
      "progress: 300\n",
      "progress: 400\n",
      "progress: 500\n",
      "progress: 600\n",
      "progress: 700\n",
      "progress: 800\n",
      "progress: 900\n",
      "error with 807367030, key = error\n",
      "error with 807367166, key = error\n"
     ]
    }
   ],
   "source": [
    "# adapted from template for assignment 2 for UW class 512 \n",
    "# note: this takes a while to run therefore I recommend running once and saving to a .csv\n",
    "endpoint = 'https://ores.wikimedia.org/v3/scores/enwiki/?models=wp10&revids={revid}'\n",
    "headers = {'User-Agent' : '{insert you github webpage}', 'From' : '{insert your email}'}\n",
    "i=0\n",
    "for revids in revids_all:\n",
    "    params = {\n",
    "              'revid' : revids\n",
    "              }\n",
    "    api_call = requests.get(endpoint.format(**params))\n",
    "    #print(endpoint.format(**params))\n",
    "    response = api_call.json()\n",
    "    revids_list=revids.split(\"|\")\n",
    "    for revid in revids_list:\n",
    "        for k in response[\"enwiki\"][\"scores\"][str(revid)][\"wp10\"]:\n",
    "            if k == \"score\":\n",
    "                new_row=[revid,response[\"enwiki\"][\"scores\"][str(revid)][\"wp10\"][\"score\"][\"prediction\"]]\n",
    "            else:\n",
    "                print(\"error with \"+str(revid)+\", key = \"+k)\n",
    "        if i == 0:\n",
    "            result=new_row\n",
    "        else:\n",
    "            result=nm.vstack((result,new_row))\n",
    "    if i % 100 == 0:\n",
    "        print('progress: '+str(i))\n",
    "    i=i+1\n",
    "# store the api call - so that the code above doesn't need to be read often\n",
    "result=pd.DataFrame(result)\n",
    "result.columns=(\"rev_id\",\"score\")\n",
    "result.to_csv(working_folder+'wikipedia_ores_data_response.csv',header=True,index=False)"
   ]
  },
  {
   "cell_type": "markdown",
   "metadata": {},
   "source": [
    "- Merge the data from the .csv files and the API call. \n",
    "- Write the final data file to a .csv file in the working directy. "
   ]
  },
  {
   "cell_type": "code",
   "execution_count": 5,
   "metadata": {
    "collapsed": false
   },
   "outputs": [],
   "source": [
    "# merge the data\n",
    "result['rev_id']=pd.to_numeric(result['rev_id'])\n",
    "merged_result=pd.merge(result,wikipedia_data,on=['rev_id'],how=\"inner\")\n",
    "merged_result=pd.merge(merged_result,prb_data,on=['country'],how=\"inner\")\n",
    "# reorder the columns \n",
    "merged_result=merged_result[['country','page','rev_id','score','Data']]\n",
    "# rename the columns \n",
    "merged_result.columns=('country','article_name','revision_id','article_quality','population')\n",
    "# write the result to a .csv\n",
    "merged_result.to_csv(working_folder+'wikipedia_ores_data_formatted.csv',header=True,index=False)"
   ]
  },
  {
   "cell_type": "markdown",
   "metadata": {},
   "source": [
    "## 2. Analysis \n",
    "- Calculate the percent of articles per capita. "
   ]
  },
  {
   "cell_type": "code",
   "execution_count": 6,
   "metadata": {
    "collapsed": false
   },
   "outputs": [],
   "source": [
    "country_result=pd.DataFrame(nm.vstack((merged_result['country'].value_counts().index,\n",
    "                                       merged_result['country'].value_counts().values))).T\n",
    "country_result.columns=('country','num_articles')\n",
    "country_result=pd.merge(country_result,prb_data,on=['country'],how='inner')\n",
    "country_result=country_result[['country','num_articles','Data']]\n",
    "country_result.columns=('country','num_articles','population')\n",
    "country_result['articles_by_population']=(country_result['num_articles']/pd.to_numeric(country_result['population']))*100000\n",
    "country_result.index=country_result['country']"
   ]
  },
  {
   "cell_type": "markdown",
   "metadata": {},
   "source": [
    "- Calculate the percent of quality articles ('FA' or 'GA') per total articles. "
   ]
  },
  {
   "cell_type": "code",
   "execution_count": 36,
   "metadata": {
    "collapsed": false
   },
   "outputs": [],
   "source": [
    "total_articles_country=pd.DataFrame(nm.vstack((merged_result['country'].value_counts().index,\n",
    "                                       merged_result['country'].value_counts().values))).T\n",
    "total_articles_country.columns=('country','num_articles')\n",
    "merged_result_quality=copy.deepcopy(merged_result)\n",
    "merged_result_quality['article_quality']=merged_result_quality['article_quality'].map({'GA':'good','FA':'good'})\n",
    "merged_result_quality=merged_result_quality.loc[merged_result_quality.article_quality=='good']\n",
    "quality_articles_country=pd.DataFrame(nm.vstack((merged_result_quality['country'].value_counts().index,\n",
    "                                       merged_result_quality['country'].value_counts().values))).T\n",
    "quality_articles_country.columns=('country','num_quality_articles')\n",
    "quality_country_result=pd.merge(quality_articles_country,total_articles_country,on=['country'],how='inner')\n",
    "quality_country_result['per_quality_articles']=(quality_country_result['num_quality_articles']/\n",
    "                                                quality_country_result['num_articles'])*100\n",
    "quality_country_result.index=quality_country_result['country']"
   ]
  },
  {
   "cell_type": "markdown",
   "metadata": {},
   "source": [
    "## 3. Visualization \n",
    "- Visualize the data based on the top and bottom countries according to the articles per capita and the quality articles per total articles. "
   ]
  },
  {
   "cell_type": "code",
   "execution_count": 41,
   "metadata": {
    "collapsed": false
   },
   "outputs": [
    {
     "data": {
      "image/png": "[encoded data removed]",
      "text/plain": [
       "<matplotlib.figure.Figure at 0x27d4e60c7f0>"
      ]
     },
     "metadata": {},
     "output_type": "display_data"
    }
   ],
   "source": [
    "## plot within the jupyter notebook\n",
    "%matplotlib inline\n",
    "figure,axis=plt.subplots(nrows=2,ncols=2)\n",
    "\n",
    "data1=country_result.sort_values(by=['articles_by_population'])[['articles_by_population']][:10]\n",
    "fig1=data1.plot(kind='barh',ax=axis[1,0],legend=False)\n",
    "fig1.set_ylabel('')\n",
    "fig1.set_xlabel('Articles per 100k People')\n",
    "\n",
    "data2=country_result.sort_values(by=['articles_by_population'],ascending=False)[['articles_by_population']][:10]\n",
    "data2=data2.sort_values(by=['articles_by_population'],ascending=True)[['articles_by_population']]\n",
    "fig2=data2.plot(kind='barh',ax=axis[0,0],legend=False)\n",
    "fig2.set_ylabel('')\n",
    "fig2.set_title('% Articles per Capita')\n",
    "\n",
    "data3=quality_country_result.sort_values(by=['per_quality_articles'],ascending=False)[['per_quality_articles']][:10]\n",
    "data3=data3.sort_values(by=['per_quality_articles'],ascending=True)[['per_quality_articles']]\n",
    "fig3=data3.plot(kind='barh',ax=axis[0,1],legend=False)\n",
    "fig3.set_title('% Quality Articles')\n",
    "fig3.yaxis.tick_right()\n",
    "\n",
    "data4=quality_country_result.sort_values(by=['per_quality_articles'],ascending=True)[['per_quality_articles']][:10]\n",
    "fig4=data4.plot(kind='barh',ax=axis[1,1],legend=False)\n",
    "fig4.set_xlabel('Quality Articles per Article')\n",
    "fig4.yaxis.tick_right()\n",
    "\n",
    "figure.savefig(working_folder+'wikipedia_quality_by_country.png',bbox_inches='tight')\n",
    "\n",
    "plt.show()"
   ]
  },
  {
   "cell_type": "markdown",
   "metadata": {},
   "source": [
    "## 4. Reflection\n",
    "\n",
    "    One bias that is immediately clear has to do with North Korea. North Korea has the highest number of quality articles per total articles. Using this point alone, one could assume that North Korea has more quality articles then other countries. But we also see that North Korea has one of the lowest rates of political articles per capita. Therefore, the conclusion may be instead that, North Korea has less articles are political figures, but there is a higher number of quality articles. By considering the number of articles per capita, then we start to see a clearer picture about the trends behind the number of quality articles per non-quality articles. \n",
    "\n",
    "    Another bias that is clear is the larger differnce between the 2 countries with the largest articles per capita. The top two countries have between 0.4-0.5% of the articles per capita, while the 3rd country has about half as many. These two countries have the smallest population in the dataset. Therefore the reason that these countries have such a large percentage compared to other countries should be investiaged, is it simply because thier population is so small? \n",
    "   \n",
    "    There are other biases that this research does not investigate. For instance, these are from the english wikipedia site, what is the prevelance of these countries in the news in english speaking countries? Additionally, what is the nationality of the authors? Are some of the countries not as well represented because there are less editors who write about these countries? We also know that this only goes 2 levels down in the heirarchy for the politicians, are some countries' polician pages structured differently? "
   ]
  }
 ],
 "metadata": {
  "kernelspec": {
   "display_name": "Python [default]",
   "language": "python",
   "name": "python3"
  },
  "language_info": {
   "codemirror_mode": {
    "name": "ipython",
    "version": 3
   },
   "file_extension": ".py",
   "mimetype": "text/x-python",
   "name": "python",
   "nbconvert_exporter": "python",
   "pygments_lexer": "ipython3",
   "version": "3.5.2"
  }
 },
 "nbformat": 4,
 "nbformat_minor": 2
}
